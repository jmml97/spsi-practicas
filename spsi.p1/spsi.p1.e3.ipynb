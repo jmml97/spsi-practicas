{
 "cells": [
  {
   "cell_type": "code",
   "execution_count": 1,
   "metadata": {},
   "outputs": [],
   "source": [
    "# archivo:    spsi.p1.e3\n",
    "# asignatura: Seguridad y Protección de Sistemas Informáticos\n",
    "# práctica:   Práctica 1\n",
    "# autor:      José María Martín Luque"
   ]
  },
  {
   "cell_type": "code",
   "execution_count": 2,
   "metadata": {},
   "outputs": [
    {
     "data": {
      "application/javascript": [
       "MathJax.Hub.Config({\n",
       "    TeX: { equationNumbers: { autoNumber: \"AMS\" } }\n",
       "});"
      ],
      "text/plain": [
       "<IPython.core.display.Javascript object>"
      ]
     },
     "metadata": {},
     "output_type": "display_data"
    }
   ],
   "source": [
    "%%javascript\n",
    "MathJax.Hub.Config({\n",
    "    TeX: { equationNumbers: { autoNumber: \"AMS\" } }\n",
    "});"
   ]
  },
  {
   "cell_type": "markdown",
   "metadata": {},
   "source": [
    "# Ejercicio 3\n",
    "\n",
    "*Elabore un guion en `Sagemath` que culmine en una función `iCRT` capaz de decidir si un sistema de ecuaciones de congruencias, enteras o polinomiales, tiene solución y proporcione la solución en caso de existir.*"
   ]
  },
  {
   "cell_type": "markdown",
   "metadata": {},
   "source": [
    "## Índice\n",
    "\n",
    "* [Ecuaciones de congruencias con enteros](#Ecuaciones-de-congruencias-con-enteros)\n",
    "  * [Sistemas de ecuaciones de congruencias con enteros](#Sistemas-de-ecuaciones-de-congruencias-con-enteros)\n",
    "* [Ecuaciones de congruencias con polinomios](#Ecuaciones-de-congruencias-con-polinomios)\n"
   ]
  },
  {
   "cell_type": "markdown",
   "metadata": {},
   "source": [
    "## Ecuaciones de congruencias con enteros"
   ]
  },
  {
   "cell_type": "markdown",
   "metadata": {},
   "source": [
    "Vamos a comenzar implementando una función `solCong(a, b, m)` que aceptará los parámetros enteros de una ecuación de congruencia. Sea $ax\\equiv b \\mod{m}$ la ecuación mencionada anteriormente. Utilizando el algoritmo descrito a continuación podemos encontrar su solución.\n",
    "\n",
    "1. Definimos $d = (a,m)$. Con la función `xgcd(a,m)` obtenemos la tupla $(d, u, v)$, donde $u, v \\in \\mathbb{Z}$ son unos *coeficientes de Bezout* tales que $d = au + mv$.\n",
    "2. Si $d$ no divide a $b$, la congruencia no tiene solución.\n",
    "3. Si $d$ divide a $b$, una solución es $x \\equiv \\frac{b}{d}u \\mod{\\frac{m}{d}}$.\n",
    "4. Podemos obtener otro representante más pequeño haciendo $x' = x \\mod{\\frac{m}{d}}$."
   ]
  },
  {
   "cell_type": "code",
   "execution_count": 26,
   "metadata": {},
   "outputs": [],
   "source": [
    "def solCong(a, b, m):\n",
    "    x = xgcd(a, m)\n",
    "    \n",
    "    if (b % x[0]):\n",
    "        print(\"No hay solución para la congruencia \" + str(a) + \"x = \" + str(b) + \"  mod \" + str(m) + \".\")\n",
    "        return [0, 0]\n",
    "    else:\n",
    "        m = m // x[0]\n",
    "        b = b // x[0]\n",
    "        return [b*x[1] % m, m]"
   ]
  },
  {
   "cell_type": "code",
   "execution_count": 12,
   "metadata": {},
   "outputs": [
    {
     "data": {
      "text/plain": [
       "[4, 7]"
      ]
     },
     "execution_count": 12,
     "metadata": {},
     "output_type": "execute_result"
    }
   ],
   "source": [
    "solCong(12, 6, 21)"
   ]
  },
  {
   "cell_type": "code",
   "execution_count": 13,
   "metadata": {},
   "outputs": [
    {
     "name": "stdout",
     "output_type": "stream",
     "text": [
      "No hay solución para la congruencia 12x = 7  mod 21.\n"
     ]
    },
    {
     "data": {
      "text/plain": [
       "[0, 0]"
      ]
     },
     "execution_count": 13,
     "metadata": {},
     "output_type": "execute_result"
    }
   ],
   "source": [
    "solCong(12, 7, 21)"
   ]
  },
  {
   "cell_type": "markdown",
   "metadata": {},
   "source": [
    "### Sistemas de ecuaciones de congruencias con enteros"
   ]
  },
  {
   "cell_type": "markdown",
   "metadata": {},
   "source": [
    "Un sistema de congruencias es de la forma \n",
    "    \\begin{align}\n",
    "        l_0^0 &\\equiv l_1^0 \\mod l_2^0 \\label{eq:cong1}\\;,\\\\ \n",
    "        &\\,\\,\\vdots \\\\\n",
    "        l_0^n &\\equiv l_1^n \\mod l_2^n\\label{eq:cong3}\\;.\n",
    "    \\end{align}"
   ]
  },
  {
   "cell_type": "markdown",
   "metadata": {},
   "source": [
    "Para resolver este sistema procedemos de la siguiente forma.\n",
    "\n",
    "1. Resolvemos la primera congruencia con `solCong`. Obtenemos una pareja $\\left(t_0^0, t_1^0\\right)$ de forma que $x = t_0^0 + t_1^0k_1$, donde $k_1$ es un entero. Llamamos $s$ a la solución y la definimos inicialmente como $s := \\left(s_0^0, s_1^0\\right) = \\left(t_0^0, t_1^0\\right)$. \n",
    "2. A continuación imponemos que $x$ satisfaga la segunda ecuación: \n",
    "\n",
    "$$l_0^1\\left(t_0^0 + t_1^0k_1\\right) \\equiv l_1^1 \\bmod{l_2^1} \\implies l_0^1t_1^0k_1 \\equiv \\left(l_1^1 - l_0^1t_0^0\\right) \\bmod{l_2^1}\\,.$$\n",
    "\n",
    "3. Ahora, viendo $k_1$ como la incógnita, volvemos a llamar a `solCong` con $a = l_0^1t_1^0$, $\\,b = l_1^1 - l_0^1t_0^0$ y $\\,m = l_2^1$. Obtenemos de nuevo una pareja $\\left(t_0^1, t_1^1\\right)$, y ahora podemos escribir:\n",
    "\n",
    "$$x = t_0^0 + t_1^0k_1 = t_0^0 + t_1^0\\left(t_0^1 + t_1^1k_2\\right) = t_0^0 + t_1^0t_0^1 + t_1^0t_1^1k_2.$$\n",
    "\n",
    "4. Tendremos entonces que $\\left(s_0^1, s_1^1\\right) = \\left(t_0^0 + t_1^0t_0^1, t_1^0t_1^1\\right) = \\left(s_0^0 + s_1^0t_0^1, s_1^0t_1^1\\right)$. \n",
    "5. Iteramos este proceso hasta llegar a la última ecuación, obteniendo el valor de $x$ que verifica todas las ecuaciones.\n",
    "\n",
    "Un detalle a tener en cuenta en la implementación es el valor inicial de $s$. Como sabemos que: \n",
    "\n",
    "\\begin{align*}\n",
    "    s_1 &= s_1t_1 = t_1 &\\implies s_1 = 1\\,,\\\\\n",
    "    s_0 &= s_0 + s_1t_1 = s_0 + t_1 &\\implies s_0 = 0\\,.\n",
    "\\end{align*}\n",
    "\n",
    "Si en algún momento alguna de las congruencias no tiene solución, el sistema no tiene solución. En otro caso, devolvemos la pareja $s$, cuya interpretación es la misma que lo que devuelve `solCong`. Como argumento pasamos una lista con todos los elementos $l_i^j$ ordenados de izquierda a derecha y comenzando desde la primera ecuación hasta la última."
   ]
  },
  {
   "cell_type": "code",
   "execution_count": 6,
   "metadata": {},
   "outputs": [],
   "source": [
    "def iCRT(l):\n",
    "    s = [0, 1]\n",
    "    \n",
    "    while (len(l) > 2 and s[1]):\n",
    "        t = solCong(l[0]*s[1], l[1] - l[0]*s[0], l[2])\n",
    "        s = [s[0] + s[1]*t[0], t[1]*s[1]]\n",
    "        l[0:3] = [] # sustituimos del 0 al 2 por la lista vacía\n",
    "    if s[1]:\n",
    "        return s\n",
    "    else:\n",
    "        return [0, 0] # el sistema no tiene solución\n",
    "        "
   ]
  },
  {
   "cell_type": "markdown",
   "metadata": {},
   "source": [
    "Probamos la función con el sistema de congruencias \n",
    "    \\begin{align*}\n",
    "        2x &\\equiv 10 &\\mod 12\\;,\\\\ \n",
    "        x &\\equiv 2 &\\mod 21 \\;.\n",
    "    \\end{align*}"
   ]
  },
  {
   "cell_type": "code",
   "execution_count": 7,
   "metadata": {},
   "outputs": [
    {
     "data": {
      "text/plain": [
       "[23, 42]"
      ]
     },
     "execution_count": 7,
     "metadata": {},
     "output_type": "execute_result"
    }
   ],
   "source": [
    "iCRT([2, 10, 12, 1, 2, 21])"
   ]
  },
  {
   "cell_type": "markdown",
   "metadata": {},
   "source": [
    "La solución de este sistema es por tanto $x = 23 \\mod 42$, que es $23$."
   ]
  },
  {
   "cell_type": "markdown",
   "metadata": {},
   "source": [
    "## Ecuaciones de congruencias con polinomios"
   ]
  },
  {
   "cell_type": "markdown",
   "metadata": {},
   "source": [
    "La función que utilizamos para resolver las ecuaciones —`solCong`— está implementada sobre la función de Sage `xgcd`, que ya acepta polinomios con coeficientes en un cuerpo. Por tanto no tenemos que modificar nuestro código y podemos pasar como argumento directamente polinomios con coeficientes en un cuerpo."
   ]
  },
  {
   "cell_type": "markdown",
   "metadata": {},
   "source": [
    "Para ello comenzamos definiendo dos anillos de polinomios, $A$ sobre $\\mathbb Q$ y $Z$ sobre $\\mathbb F_{11}$."
   ]
  },
  {
   "cell_type": "code",
   "execution_count": 14,
   "metadata": {},
   "outputs": [
    {
     "data": {
      "text/plain": [
       "Univariate Polynomial Ring in x over Rational Field"
      ]
     },
     "execution_count": 14,
     "metadata": {},
     "output_type": "execute_result"
    }
   ],
   "source": [
    "A.<x>=QQ[]; A"
   ]
  },
  {
   "cell_type": "code",
   "execution_count": 15,
   "metadata": {},
   "outputs": [
    {
     "data": {
      "text/plain": [
       "Univariate Polynomial Ring in y over Finite Field of size 11"
      ]
     },
     "execution_count": 15,
     "metadata": {},
     "output_type": "execute_result"
    }
   ],
   "source": [
    "Z.<y>=GF(11)[]; Z"
   ]
  },
  {
   "cell_type": "markdown",
   "metadata": {},
   "source": [
    "Ahora podemos definir polinomios en estos anillos."
   ]
  },
  {
   "cell_type": "code",
   "execution_count": 21,
   "metadata": {},
   "outputs": [
    {
     "data": {
      "text/plain": [
       "12*x + 24"
      ]
     },
     "execution_count": 21,
     "metadata": {},
     "output_type": "execute_result"
    }
   ],
   "source": [
    "a = A(12*x + 24); a"
   ]
  },
  {
   "cell_type": "code",
   "execution_count": 22,
   "metadata": {},
   "outputs": [
    {
     "data": {
      "text/plain": [
       "x^3 + 4*x + 8"
      ]
     },
     "execution_count": 22,
     "metadata": {},
     "output_type": "execute_result"
    }
   ],
   "source": [
    "b = A(x^3 + 4*x + 8); b"
   ]
  },
  {
   "cell_type": "code",
   "execution_count": 24,
   "metadata": {},
   "outputs": [
    {
     "data": {
      "text/plain": [
       "27*x + 3"
      ]
     },
     "execution_count": 24,
     "metadata": {},
     "output_type": "execute_result"
    }
   ],
   "source": [
    "m = A(27*x + 3); m"
   ]
  },
  {
   "cell_type": "markdown",
   "metadata": {},
   "source": [
    "Con estos polinomios construimos la ecuación de congruencia y la resolvemos utilizando `solCong(a, b, m)`."
   ]
  },
  {
   "cell_type": "code",
   "execution_count": 27,
   "metadata": {},
   "outputs": [
    {
     "data": {
      "text/plain": [
       "[5507/16524, 27*x + 3]"
      ]
     },
     "execution_count": 27,
     "metadata": {},
     "output_type": "execute_result"
    }
   ],
   "source": [
    "solCong(a, b, m)"
   ]
  },
  {
   "cell_type": "markdown",
   "metadata": {},
   "source": [
    "También podemos resolver sistemas de ecuaciones de congruencias utilizando la función `iCRT`."
   ]
  },
  {
   "cell_type": "code",
   "execution_count": 32,
   "metadata": {},
   "outputs": [
    {
     "data": {
      "text/plain": [
       "[y^8 + 6*y^7 + 7*y^6 + 7*y^4 + 4*y^3 + 2*y^2 + 10*y + 10,\n",
       " y^9 + 7*y^7 + 8*y^6 + 9*y^5 + y^4 + 7*y^3 + 6*y^2 + 1]"
      ]
     },
     "execution_count": 32,
     "metadata": {},
     "output_type": "execute_result"
    }
   ],
   "source": [
    "iCRT([Z(13), Z(5*y + 5), Z(y^3 + 8), Z(x + 1), Z(7), Z((y^2 - 27)^3)])"
   ]
  }
 ],
 "metadata": {
  "kernelspec": {
   "display_name": "SageMath 8.8",
   "language": "sage",
   "name": "sagemath"
  },
  "language_info": {
   "codemirror_mode": {
    "name": "ipython",
    "version": 2
   },
   "file_extension": ".py",
   "mimetype": "text/x-python",
   "name": "python",
   "nbconvert_exporter": "python",
   "pygments_lexer": "ipython2",
   "version": "2.7.15"
  }
 },
 "nbformat": 4,
 "nbformat_minor": 2
}
