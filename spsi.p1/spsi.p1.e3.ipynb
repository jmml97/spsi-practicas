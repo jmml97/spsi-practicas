{
 "cells": [
  {
   "cell_type": "code",
   "execution_count": null,
   "metadata": {},
   "outputs": [],
   "source": [
    "# archivo:    spsi.p1.e3\n",
    "# asignatura: Seguridad y Protección de Sistemas Informáticos\n",
    "# práctica:   Práctica 1\n",
    "# autor:      José María Martín Luque"
   ]
  },
  {
   "cell_type": "code",
   "execution_count": 29,
   "metadata": {},
   "outputs": [
    {
     "data": {
      "application/javascript": [
       "MathJax.Hub.Config({\n",
       "    TeX: { equationNumbers: { autoNumber: \"AMS\" } }\n",
       "});"
      ],
      "text/plain": [
       "<IPython.core.display.Javascript object>"
      ]
     },
     "metadata": {},
     "output_type": "display_data"
    }
   ],
   "source": [
    "%%javascript\n",
    "MathJax.Hub.Config({\n",
    "    TeX: { equationNumbers: { autoNumber: \"AMS\" } }\n",
    "});"
   ]
  },
  {
   "cell_type": "markdown",
   "metadata": {},
   "source": [
    "# Ejercicio 3\n",
    "\n",
    "*Elabore un guion en `Sagemath` que culmine en una función `iCRT` capaz de decidir si un sistema de ecuaciones de congruencias, enteras o polinomiales, tiene solución y proporcione la solución en caso de existir.*"
   ]
  },
  {
   "cell_type": "markdown",
   "metadata": {},
   "source": [
    "## Congruencias con enteros"
   ]
  },
  {
   "cell_type": "markdown",
   "metadata": {},
   "source": [
    "Vamos a comenzar implementando una función `solCong(a, b, m)` que aceptará los parámetros enteros de una ecuación de congruencia. Sea $ax\\equiv b \\mod{m}$ la ecuación mencionada anteriormente. Utilizando el algoritmo descrito a continuación podemos encontrar su solución.\n",
    "\n",
    "1. Definimos $d = (a,m)$. Con la función `xgcd(a,m)` obtenemos la tupla $(d, u, v)$, donde $u, v \\in \\mathbb{Z}$ son unos *coeficientes de Bezout* tales que $d = au + mv$.\n",
    "2. Si $d$ no divide a $b$, la congruencia no tiene solución.\n",
    "3. Si $d$ divide a $b$, una solución es $x \\equiv \\frac{b}{d}u \\mod{\\frac{m}{d}}$.\n",
    "4. Podemos obtener otro representante más pequeño haciendo $x' = x \\mod{\\frac{m}{d}}$."
   ]
  },
  {
   "cell_type": "code",
   "execution_count": 30,
   "metadata": {},
   "outputs": [],
   "source": [
    "def solCong(a, b, m):\n",
    "    a, b, m = int(a), int(b), int(m)\n",
    "    x = xgcd(a, m)\n",
    "    \n",
    "    if (b % x[0]):\n",
    "        return [0, 0]\n",
    "    else:\n",
    "        m = m // x[0]\n",
    "        b = b // x[0]\n",
    "        return [b*x[1] % m, m]"
   ]
  },
  {
   "cell_type": "code",
   "execution_count": 31,
   "metadata": {},
   "outputs": [
    {
     "data": {
      "text/plain": [
       "[4, 7]"
      ]
     },
     "execution_count": 31,
     "metadata": {},
     "output_type": "execute_result"
    }
   ],
   "source": [
    "solCong(12, 6, 21)"
   ]
  },
  {
   "cell_type": "code",
   "execution_count": 32,
   "metadata": {},
   "outputs": [
    {
     "data": {
      "text/plain": [
       "[0, 0]"
      ]
     },
     "execution_count": 32,
     "metadata": {},
     "output_type": "execute_result"
    }
   ],
   "source": [
    "solCong(12, 7, 21)"
   ]
  },
  {
   "cell_type": "markdown",
   "metadata": {},
   "source": [
    "### Sistemas de congruencias con enteros"
   ]
  },
  {
   "cell_type": "markdown",
   "metadata": {},
   "source": [
    "Un sistema de congruencias es de la forma \n",
    "    \\begin{align}\n",
    "        l_0^0 &\\equiv l_1^0 \\mod l_2^0 \\label{eq:cong1}\\;,\\\\ \n",
    "        &\\,\\,\\vdots \\\\\n",
    "        l_0^n &\\equiv l_1^n \\mod l_2^n\\label{eq:cong3}\\;.\n",
    "    \\end{align}"
   ]
  },
  {
   "cell_type": "markdown",
   "metadata": {},
   "source": [
    "Resolvemos la primera congruencia con `solCong`. Obtenemos una pareja $\\left(t_0^0, t_1^0\\right)$ de forma que $x = t_0^0 + t_1^0k_1$, donde $k_1$ es un entero. Llamamos $s$ a la solución y la definimos inicialmente como $s := \\left(s_0^0, s_1^0\\right) = \\left(t_0^0, t_1^0\\right)$. A continuación imponemos que $x$ satisfaga la segunda ecuación:\n",
    "\n",
    "$$l_0^1\\left(t_0^0 + t_1^0k_1\\right) \\equiv l_1^1 \\bmod{l_2^1} \\implies l_0^1t_1^0k_1 \\equiv \\left(l_1^1 - l_0^1t_0^0\\right) \\bmod{l_2^1}\\,.$$\n",
    "\n",
    "Ahora, viendo $k_1$ como la incógnita, volvemos a llamar a `solCong` con $a = l_0^1t_1^0$, $\\,b = l_1^1 - l_0^1t_0^0$ y $\\,m = l_2^1$. Obtenemos de nuevo una pareja $\\left(t_0^1, t_1^1\\right)$, y ahora podemos escribir:\n",
    "\n",
    "$$x = t_0^0 + t_1^0k_1 = x = t_0^0 + t_1^0\\left(t_0^1 + t_1^1k_2\\right) = t_0^0 + t_1^0t_0^1 + t_1^0t_1^1k_2.$$\n",
    "\n",
    "Tendremos entonces que $\\left(s_0^1, s_1^1\\right) = \\left(t_0^0 + t_1^0t_0^1, t_1^0t_1^1\\right) = \\left(s_0^0 + s_1^0t_0^1, s_1^0t_1^1\\right)$. Iteramos este proceso hasta llegar a la última ecuación, obteniendo el valor de $x$ que verifica todas las ecuaciones.\n",
    "\n",
    "Un detalle a tener en cuenta en la implementación es el valor inicial de $s$. Como sabemos que:\n",
    "\n",
    "$$s_1 = s_1t_1 = t_1 \\implies s_1 = 1$$\n",
    "$$s_0 = s_0 + s_1t_1 = s_0 + t_1 \\implies s_0 = 0$$\n",
    "\n",
    "Si en algún momento alguna de las congruencias no tiene solución, el sistema no tiene solución. En otro caso, devolvemos la pareja $s$, cuya interpretación es la misma que lo que devuelve `solCong`. Como argumento pasamos una lista con todos los elementos de interés ordenados."
   ]
  },
  {
   "cell_type": "code",
   "execution_count": 33,
   "metadata": {},
   "outputs": [],
   "source": [
    "def iCRT(l):\n",
    "    s = [0, 1]\n",
    "    \n",
    "    while (len(l) > 2 and s[1]):\n",
    "        t = solCong(l[0]*s[1], l[1] - l[0]*s[0], l[2])\n",
    "        s = [s[0] + s[1]*t[0], t[1]*s[1]]\n",
    "        l[0:3] = [] # sustituimos del 0 al 2 por la lista vacía\n",
    "    if s[1]:\n",
    "        return s\n",
    "    else:\n",
    "        return [0, 0] # el sistema no tiene solución\n",
    "        "
   ]
  },
  {
   "cell_type": "markdown",
   "metadata": {},
   "source": [
    "Probamos la función con el sistema de congruencias \n",
    "    \\begin{align*}\n",
    "        2x &\\equiv 10 &\\mod 12\\;,\\\\ \n",
    "        x &\\equiv 2 &\\mod 21 \\;.\n",
    "    \\end{align*}"
   ]
  },
  {
   "cell_type": "code",
   "execution_count": 34,
   "metadata": {},
   "outputs": [
    {
     "data": {
      "text/plain": [
       "[23, 42]"
      ]
     },
     "execution_count": 34,
     "metadata": {},
     "output_type": "execute_result"
    }
   ],
   "source": [
    "iCRT([2, 10, 12, 1, 2, 21])"
   ]
  },
  {
   "cell_type": "markdown",
   "metadata": {},
   "source": [
    "## Con polinomios"
   ]
  },
  {
   "cell_type": "markdown",
   "metadata": {},
   "source": [
    "Lo que tenemos que implementar es `solCong` para polinomios. Nuestra antigua función `solCong` está implementada sobre `xgcd`\n",
    "\n",
    "La implementación de polinomios se puede consultar en el archivo `alem_leccion_04`."
   ]
  },
  {
   "cell_type": "code",
   "execution_count": null,
   "metadata": {},
   "outputs": [],
   "source": []
  }
 ],
 "metadata": {
  "kernelspec": {
   "display_name": "SageMath 8.8",
   "language": "sage",
   "name": "sagemath"
  },
  "language_info": {
   "codemirror_mode": {
    "name": "ipython",
    "version": 2
   },
   "file_extension": ".py",
   "mimetype": "text/x-python",
   "name": "python",
   "nbconvert_exporter": "python",
   "pygments_lexer": "ipython2",
   "version": "2.7.15"
  }
 },
 "nbformat": 4,
 "nbformat_minor": 2
}
