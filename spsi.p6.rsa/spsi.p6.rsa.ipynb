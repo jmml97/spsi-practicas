{
 "cells": [
  {
   "cell_type": "code",
   "execution_count": 92,
   "metadata": {},
   "outputs": [],
   "source": [
    "# archivo:    spsi.p6.rsa\n",
    "# asignatura: Seguridad y Protección de Sistemas Informáticos\n",
    "# práctica:   Práctica 6\n",
    "# autor:      José María Martín Luque"
   ]
  },
  {
   "cell_type": "code",
   "execution_count": 93,
   "metadata": {},
   "outputs": [
    {
     "data": {
      "application/javascript": [
       "MathJax.Hub.Config({\n",
       "    TeX: { equationNumbers: { autoNumber: \"AMS\" } }\n",
       "});"
      ],
      "text/plain": [
       "<IPython.core.display.Javascript object>"
      ]
     },
     "metadata": {},
     "output_type": "display_data"
    }
   ],
   "source": [
    "%%javascript\n",
    "MathJax.Hub.Config({\n",
    "    TeX: { equationNumbers: { autoNumber: \"AMS\" } }\n",
    "});"
   ]
  },
  {
   "cell_type": "markdown",
   "metadata": {},
   "source": [
    "# Ejercicio 1\n",
    "\n",
    "*Emita una pareja de claves, pública y privada, para adherirse usted a un círculo RSA como usuario $A$.*"
   ]
  },
  {
   "cell_type": "markdown",
   "metadata": {},
   "source": [
    "Necesitamos:\n",
    "\n",
    "- Dos números $p$, $q$ primos.\n",
    "- El producto $n = pq$.\n",
    "- El valor $\\phi(n)$.\n",
    "- Un valor $e$ tal que $(e, \\phi(n)) = 1$.\n",
    "- Un valor $d$ tal que $ed \\equiv 1 \\mod \\phi(n)$, es decir, $d = e^{-1}\\mod\\phi(n)$.\n",
    "\n",
    "La clave pública será la tupla $(n, e)$ y la clave privada, $(p, q, d)$."
   ]
  },
  {
   "cell_type": "code",
   "execution_count": 94,
   "metadata": {},
   "outputs": [
    {
     "name": "stdout",
     "output_type": "stream",
     "text": [
      "524287\n",
      "True\n"
     ]
    }
   ],
   "source": [
    "p_A = (2^19) - 1\n",
    "print(p_A)\n",
    "print(is_prime(p_A))"
   ]
  },
  {
   "cell_type": "code",
   "execution_count": 95,
   "metadata": {},
   "outputs": [
    {
     "name": "stdout",
     "output_type": "stream",
     "text": [
      "2147483647\n",
      "True\n"
     ]
    }
   ],
   "source": [
    "q_A = (2^31) - 1\n",
    "print(q_A)\n",
    "print(is_prime(q_A))"
   ]
  },
  {
   "cell_type": "code",
   "execution_count": 96,
   "metadata": {},
   "outputs": [
    {
     "data": {
      "text/plain": [
       "1125897758834689"
      ]
     },
     "execution_count": 96,
     "metadata": {},
     "output_type": "execute_result"
    }
   ],
   "source": [
    "n_A = p_A*q_A; n_A"
   ]
  },
  {
   "cell_type": "markdown",
   "metadata": {},
   "source": [
    "Calculamos $\\phi(n)$ sabiendo que $\\phi(n) = (p-1)(q-1)$."
   ]
  },
  {
   "cell_type": "code",
   "execution_count": 97,
   "metadata": {},
   "outputs": [
    {
     "data": {
      "text/plain": [
       "1125895610826756"
      ]
     },
     "execution_count": 97,
     "metadata": {},
     "output_type": "execute_result"
    }
   ],
   "source": [
    "phi_A = (p_A - 1)*(q_A - 1); phi_A"
   ]
  },
  {
   "cell_type": "markdown",
   "metadata": {},
   "source": [
    "Para buscar $e$ generamos enteros aleatorios menores que $\\phi(n)$ con la función `random_element` hasta encontrar alguno tal que $(e, \\phi(n)) = 1$."
   ]
  },
  {
   "cell_type": "code",
   "execution_count": 98,
   "metadata": {},
   "outputs": [],
   "source": [
    "def genera_e(phi):\n",
    "    e = ZZ.random_element(phi)\n",
    "    while gcd(e, phi) != 1:\n",
    "        e = ZZ.random_element(phi)\n",
    "    return e"
   ]
  },
  {
   "cell_type": "code",
   "execution_count": 99,
   "metadata": {},
   "outputs": [
    {
     "data": {
      "text/plain": [
       "294928947328891"
      ]
     },
     "execution_count": 99,
     "metadata": {},
     "output_type": "execute_result"
    }
   ],
   "source": [
    "e_A = genera_e(phi_A); e_A"
   ]
  },
  {
   "cell_type": "code",
   "execution_count": 100,
   "metadata": {},
   "outputs": [
    {
     "data": {
      "text/plain": [
       "1"
      ]
     },
     "execution_count": 100,
     "metadata": {},
     "output_type": "execute_result"
    }
   ],
   "source": [
    "gcd(e_A, phi_A)"
   ]
  },
  {
   "cell_type": "code",
   "execution_count": 101,
   "metadata": {},
   "outputs": [],
   "source": [
    "def genera_d(e, phi):\n",
    "    bezout = xgcd(e, phi); bezout\n",
    "    d = Integer(mod(bezout[1], phi))\n",
    "    return d"
   ]
  },
  {
   "cell_type": "code",
   "execution_count": 102,
   "metadata": {},
   "outputs": [
    {
     "data": {
      "text/plain": [
       "338903956284055"
      ]
     },
     "execution_count": 102,
     "metadata": {},
     "output_type": "execute_result"
    }
   ],
   "source": [
    "d_A = genera_d(e_A, phi_A) ; d_A"
   ]
  },
  {
   "cell_type": "code",
   "execution_count": 103,
   "metadata": {},
   "outputs": [
    {
     "data": {
      "text/plain": [
       "1"
      ]
     },
     "execution_count": 103,
     "metadata": {},
     "output_type": "execute_result"
    }
   ],
   "source": [
    "mod(d_A * e_A, phi_A)"
   ]
  },
  {
   "cell_type": "markdown",
   "metadata": {},
   "source": [
    "La clave pública de $A$ va a ser la tupla $(n, e)$."
   ]
  },
  {
   "cell_type": "code",
   "execution_count": 104,
   "metadata": {},
   "outputs": [
    {
     "data": {
      "text/plain": [
       "(1125897758834689, 294928947328891)"
      ]
     },
     "execution_count": 104,
     "metadata": {},
     "output_type": "execute_result"
    }
   ],
   "source": [
    "pub_A = (n_A, e_A); pub_A"
   ]
  },
  {
   "cell_type": "markdown",
   "metadata": {},
   "source": [
    "La clave privada de $A$ va a ser la tupla $(p, q, d)$."
   ]
  },
  {
   "cell_type": "code",
   "execution_count": 105,
   "metadata": {},
   "outputs": [
    {
     "data": {
      "text/plain": [
       "(524287, 2147483647, 338903956284055)"
      ]
     },
     "execution_count": 105,
     "metadata": {},
     "output_type": "execute_result"
    }
   ],
   "source": [
    "priv_A = (p_A, q_A, d_A); priv_A"
   ]
  },
  {
   "cell_type": "markdown",
   "metadata": {},
   "source": [
    "# Ejercicio 2"
   ]
  },
  {
   "cell_type": "markdown",
   "metadata": {},
   "source": [
    "*Simule ser un segundo usuario $B$, del mismo círculo y envíe de $A$ a $B$ un mensaje firmado y cifrado. Al recibirlo descífrelo y compruebe la identidad del emisor.*"
   ]
  },
  {
   "cell_type": "markdown",
   "metadata": {},
   "source": [
    "A continuación se describen algunas funciones auxiliares necesarias para codificar un mensaje."
   ]
  },
  {
   "cell_type": "code",
   "execution_count": 106,
   "metadata": {},
   "outputs": [],
   "source": [
    "def completa(texto, m):\n",
    "    \"\"\"Completa el texto para que su longitud sea múltiplo de 'm'\"\"\"\n",
    "    resto = len(texto) % m\n",
    "    r = \"\"\n",
    "    \n",
    "    if resto:\n",
    "        resto = m - resto\n",
    "    \n",
    "    for i in range(resto):\n",
    "        r = r + \"w\"\n",
    "        \n",
    "    return texto + r"
   ]
  },
  {
   "cell_type": "code",
   "execution_count": 107,
   "metadata": {},
   "outputs": [],
   "source": [
    "def texto_a_numeros(texto):\n",
    "    \"\"\"Convierte el texto recibido a una cadena de números.\n",
    "    \n",
    "    Cada número que representa la posición de cada carácter en el alfabeto —sin \n",
    "    la ñ ni acentos—, que es reemplazada por ny.\n",
    "\n",
    "    El texto se codifica en minúscula.\n",
    "    \"\"\"\n",
    "\n",
    "    texto = texto.lower()\n",
    "    texto = texto.replace(\"ñ\", \"ny\")\n",
    "    texto = texto.replace(\"á\", \"a\")\n",
    "    texto = texto.replace(\"é\", \"e\")\n",
    "    texto = texto.replace(\"í\", \"i\")\n",
    "    texto = texto.replace(\"ó\", \"o\")\n",
    "    texto = texto.replace(\"ú\", \"u\")\n",
    "\n",
    "    numeros = []\n",
    "    for c in texto:\n",
    "        n = ord(c) - 97\n",
    "        numeros.append(n)\n",
    "    return numeros"
   ]
  },
  {
   "cell_type": "code",
   "execution_count": 108,
   "metadata": {},
   "outputs": [],
   "source": [
    "def numeros_a_texto(numeros):\n",
    "    \"\"\"Convierte la lista de números recibida en un string entendiendo que cada \n",
    "    número es la posición de una letra en el alfabeto.\n",
    "    \"\"\"\n",
    "\n",
    "    texto = \"\"\n",
    "    for n in numeros:\n",
    "        c = chr(n + 97)\n",
    "        texto = texto + c\n",
    "    return texto"
   ]
  },
  {
   "cell_type": "code",
   "execution_count": 109,
   "metadata": {},
   "outputs": [],
   "source": [
    "def bloques(lista, m):\n",
    "    \"\"\"Devuelve bloques de 'm' elementos a partir de 'lista'.\"\"\"\n",
    "    for i in range(0, len(lista), m):\n",
    "        yield lista[i:i + m]"
   ]
  },
  {
   "cell_type": "markdown",
   "metadata": {},
   "source": [
    "Tenemos que generar las claves de $B$."
   ]
  },
  {
   "cell_type": "code",
   "execution_count": 110,
   "metadata": {},
   "outputs": [
    {
     "name": "stdout",
     "output_type": "stream",
     "text": [
      "2305843009213693951\n",
      "True\n"
     ]
    }
   ],
   "source": [
    "p_B = (2^61) - 1\n",
    "print(p_B)\n",
    "print(is_prime(p_B))"
   ]
  },
  {
   "cell_type": "code",
   "execution_count": 111,
   "metadata": {},
   "outputs": [
    {
     "name": "stdout",
     "output_type": "stream",
     "text": [
      "618970019642690137449562111\n",
      "True\n"
     ]
    }
   ],
   "source": [
    "q_B = (2^89) - 1\n",
    "print(q_B)\n",
    "print(is_prime(q_B))"
   ]
  },
  {
   "cell_type": "code",
   "execution_count": 117,
   "metadata": {},
   "outputs": [
    {
     "data": {
      "text/plain": [
       "1418610524977236755080838127275432279717913493"
      ]
     },
     "execution_count": 117,
     "metadata": {},
     "output_type": "execute_result"
    }
   ],
   "source": [
    "n_B = p_B*q_B\n",
    "phi_B = (p_B - 1)*(q_B - 1)\n",
    "e_B = genera_e(phi_B)\n",
    "d_B = genera_d(e_B, phi_B) ; d_B"
   ]
  },
  {
   "cell_type": "code",
   "execution_count": 118,
   "metadata": {},
   "outputs": [
    {
     "data": {
      "text/plain": [
       "(1427247692705959880439315947500961989719490561,\n",
       " 425004578570056476170555047107321620563474357)"
      ]
     },
     "execution_count": 118,
     "metadata": {},
     "output_type": "execute_result"
    }
   ],
   "source": [
    "pub_B = (n_B, e_B); pub_B"
   ]
  },
  {
   "cell_type": "code",
   "execution_count": 119,
   "metadata": {},
   "outputs": [
    {
     "data": {
      "text/plain": [
       "(2305843009213693951,\n",
       " 618970019642690137449562111,\n",
       " 1418610524977236755080838127275432279717913493)"
      ]
     },
     "execution_count": 119,
     "metadata": {},
     "output_type": "execute_result"
    }
   ],
   "source": [
    "priv_B = (p_B, q_B, d_B); priv_B"
   ]
  },
  {
   "cell_type": "code",
   "execution_count": null,
   "metadata": {},
   "outputs": [],
   "source": []
  }
 ],
 "metadata": {
  "kernelspec": {
   "display_name": "SageMath 8.8",
   "language": "sage",
   "name": "sagemath"
  },
  "language_info": {
   "codemirror_mode": {
    "name": "ipython",
    "version": 2
   },
   "file_extension": ".py",
   "mimetype": "text/x-python",
   "name": "python",
   "nbconvert_exporter": "python",
   "pygments_lexer": "ipython2",
   "version": "2.7.15"
  }
 },
 "nbformat": 4,
 "nbformat_minor": 2
}
