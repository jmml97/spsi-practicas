{
 "cells": [
  {
   "cell_type": "code",
   "execution_count": 1175,
   "metadata": {},
   "outputs": [],
   "source": [
    "# archivo:    spsi.p6.rsa\n",
    "# asignatura: Seguridad y Protección de Sistemas Informáticos\n",
    "# práctica:   Práctica 6\n",
    "# autor:      José María Martín Luque"
   ]
  },
  {
   "cell_type": "code",
   "execution_count": 1176,
   "metadata": {},
   "outputs": [
    {
     "data": {
      "application/javascript": [
       "MathJax.Hub.Config({\n",
       "    TeX: { equationNumbers: { autoNumber: \"AMS\" } }\n",
       "});"
      ],
      "text/plain": [
       "<IPython.core.display.Javascript object>"
      ]
     },
     "metadata": {},
     "output_type": "display_data"
    }
   ],
   "source": [
    "%%javascript\n",
    "MathJax.Hub.Config({\n",
    "    TeX: { equationNumbers: { autoNumber: \"AMS\" } }\n",
    "});"
   ]
  },
  {
   "cell_type": "markdown",
   "metadata": {},
   "source": [
    "# Ejercicio 1\n",
    "\n",
    "*Emita una pareja de claves, pública y privada, para adherirse usted a un círculo RSA como usuario $A$.*"
   ]
  },
  {
   "cell_type": "markdown",
   "metadata": {},
   "source": [
    "Necesitamos:\n",
    "\n",
    "- Dos números $p$, $q$ primos.\n",
    "- El producto $n = pq$.\n",
    "- El valor $\\phi(n)$.\n",
    "- Un valor $e$ tal que $(e, \\phi(n)) = 1$.\n",
    "- Un valor $d$ tal que $ed \\equiv 1 \\mod \\phi(n)$, es decir, $d = e^{-1}\\mod\\phi(n)$.\n",
    "\n",
    "La clave pública será la tupla $(n, e)$ y la clave privada, $(p, q, d)$."
   ]
  },
  {
   "cell_type": "code",
   "execution_count": 1177,
   "metadata": {},
   "outputs": [
    {
     "name": "stdout",
     "output_type": "stream",
     "text": [
      "524287\n",
      "True\n"
     ]
    }
   ],
   "source": [
    "p_A = (2^19) - 1\n",
    "print(p_A)\n",
    "print(is_prime(p_A))"
   ]
  },
  {
   "cell_type": "code",
   "execution_count": 1178,
   "metadata": {},
   "outputs": [
    {
     "name": "stdout",
     "output_type": "stream",
     "text": [
      "2147483647\n",
      "True\n"
     ]
    }
   ],
   "source": [
    "q_A = (2^31) - 1\n",
    "print(q_A)\n",
    "print(is_prime(q_A))"
   ]
  },
  {
   "cell_type": "code",
   "execution_count": 1179,
   "metadata": {},
   "outputs": [
    {
     "data": {
      "text/plain": [
       "1125897758834689"
      ]
     },
     "execution_count": 1179,
     "metadata": {},
     "output_type": "execute_result"
    }
   ],
   "source": [
    "n_A = p_A*q_A; n_A"
   ]
  },
  {
   "cell_type": "markdown",
   "metadata": {},
   "source": [
    "Calculamos $\\phi(n)$ sabiendo que $\\phi(n) = (p-1)(q-1)$."
   ]
  },
  {
   "cell_type": "code",
   "execution_count": 1180,
   "metadata": {},
   "outputs": [
    {
     "data": {
      "text/plain": [
       "1125895610826756"
      ]
     },
     "execution_count": 1180,
     "metadata": {},
     "output_type": "execute_result"
    }
   ],
   "source": [
    "phi_A = (p_A - 1)*(q_A - 1); phi_A"
   ]
  },
  {
   "cell_type": "markdown",
   "metadata": {},
   "source": [
    "Para buscar $e$ generamos enteros aleatorios menores que $\\phi(n)$ con la función `random_element` hasta encontrar alguno tal que $(e, \\phi(n)) = 1$."
   ]
  },
  {
   "cell_type": "code",
   "execution_count": 1181,
   "metadata": {},
   "outputs": [],
   "source": [
    "def genera_e(phi):\n",
    "    e = ZZ.random_element(phi)\n",
    "    while gcd(e, phi) != 1:\n",
    "        e = ZZ.random_element(phi)\n",
    "    return e"
   ]
  },
  {
   "cell_type": "code",
   "execution_count": 1182,
   "metadata": {},
   "outputs": [
    {
     "data": {
      "text/plain": [
       "60199173633307"
      ]
     },
     "execution_count": 1182,
     "metadata": {},
     "output_type": "execute_result"
    }
   ],
   "source": [
    "e_A = genera_e(phi_A); e_A"
   ]
  },
  {
   "cell_type": "code",
   "execution_count": 1183,
   "metadata": {},
   "outputs": [
    {
     "data": {
      "text/plain": [
       "1"
      ]
     },
     "execution_count": 1183,
     "metadata": {},
     "output_type": "execute_result"
    }
   ],
   "source": [
    "gcd(e_A, phi_A)"
   ]
  },
  {
   "cell_type": "code",
   "execution_count": 1184,
   "metadata": {},
   "outputs": [],
   "source": [
    "def genera_d(e, phi):\n",
    "    bezout = xgcd(e, phi); bezout\n",
    "    d = Integer(mod(bezout[1], phi))\n",
    "    return d"
   ]
  },
  {
   "cell_type": "code",
   "execution_count": 1185,
   "metadata": {},
   "outputs": [
    {
     "data": {
      "text/plain": [
       "735506640523015"
      ]
     },
     "execution_count": 1185,
     "metadata": {},
     "output_type": "execute_result"
    }
   ],
   "source": [
    "d_A = genera_d(e_A, phi_A) ; d_A"
   ]
  },
  {
   "cell_type": "code",
   "execution_count": 1186,
   "metadata": {},
   "outputs": [
    {
     "data": {
      "text/plain": [
       "1"
      ]
     },
     "execution_count": 1186,
     "metadata": {},
     "output_type": "execute_result"
    }
   ],
   "source": [
    "mod(d_A * e_A, phi_A)"
   ]
  },
  {
   "cell_type": "markdown",
   "metadata": {},
   "source": [
    "La clave pública de $A$ va a ser la tupla $(n, e)$."
   ]
  },
  {
   "cell_type": "code",
   "execution_count": 1187,
   "metadata": {},
   "outputs": [
    {
     "data": {
      "text/plain": [
       "{'e': 60199173633307, 'n': 1125897758834689}"
      ]
     },
     "execution_count": 1187,
     "metadata": {},
     "output_type": "execute_result"
    }
   ],
   "source": [
    "pub_A = {\"n\": n_A, \"e\": e_A}; pub_A"
   ]
  },
  {
   "cell_type": "markdown",
   "metadata": {},
   "source": [
    "La clave privada de $A$ va a ser la tupla $(p, q, d)$."
   ]
  },
  {
   "cell_type": "code",
   "execution_count": 1188,
   "metadata": {},
   "outputs": [
    {
     "data": {
      "text/plain": [
       "{'d': 735506640523015, 'p': 524287, 'q': 2147483647}"
      ]
     },
     "execution_count": 1188,
     "metadata": {},
     "output_type": "execute_result"
    }
   ],
   "source": [
    "priv_A = {\"p\": p_A, \"q\": q_A, \"d\": d_A}; priv_A"
   ]
  },
  {
   "cell_type": "markdown",
   "metadata": {},
   "source": [
    "# Ejercicio 2"
   ]
  },
  {
   "cell_type": "markdown",
   "metadata": {},
   "source": [
    "*Simule ser un segundo usuario $B$, del mismo círculo y envíe de $A$ a $B$ un mensaje firmado y cifrado. Al recibirlo descífrelo y compruebe la identidad del emisor.*"
   ]
  },
  {
   "cell_type": "markdown",
   "metadata": {},
   "source": [
    "A continuación se describen algunas funciones auxiliares necesarias para codificar un mensaje."
   ]
  },
  {
   "cell_type": "code",
   "execution_count": 1189,
   "metadata": {},
   "outputs": [],
   "source": [
    "def aplana_texto(texto):\n",
    "    texto = texto.lower()\n",
    "    texto = texto.replace(\"ñ\", \"ny\")\n",
    "    texto = texto.replace(\"á\", \"a\")\n",
    "    texto = texto.replace(\"é\", \"e\")\n",
    "    texto = texto.replace(\"í\", \"i\")\n",
    "    texto = texto.replace(\"ó\", \"o\")\n",
    "    texto = texto.replace(\"ú\", \"u\")\n",
    "    texto = texto.replace(\" \", \"\")\n",
    "    return texto"
   ]
  },
  {
   "cell_type": "code",
   "execution_count": 1190,
   "metadata": {},
   "outputs": [],
   "source": [
    "def texto_a_numeros(texto):\n",
    "    \"\"\"Convierte el texto recibido a una cadena de números.\n",
    "    \n",
    "    Cada número que representa la posición de cada carácter en el alfabeto —sin \n",
    "    la ñ ni acentos—, que es reemplazada por ny.\n",
    "\n",
    "    El texto se codifica en minúscula.\n",
    "    \"\"\"\n",
    "\n",
    "    texto = aplana_texto(texto)\n",
    "\n",
    "    numeros = []\n",
    "    for c in texto:\n",
    "        n = ord(c) - 97\n",
    "        numeros.append(n)\n",
    "    \n",
    "    return ''.join(format(x, '02') for x in numeros)"
   ]
  },
  {
   "cell_type": "code",
   "execution_count": 1191,
   "metadata": {},
   "outputs": [],
   "source": [
    "def numeros_a_texto(numeros):\n",
    "    \"\"\"Convierte la cadena de números recibida en un string entendiendo que cada \n",
    "    número es la posición de una letra en el alfabeto.\n",
    "    \"\"\"\n",
    "    texto = \"\"\n",
    "    \n",
    "    numeros_bloques = [numeros[i:i+2] for i in range(0, len(numeros), 2)]\n",
    "    \n",
    "    for bloque in numeros_bloques:\n",
    "        c = chr(int(bloque) + 97)\n",
    "        texto = texto + c\n",
    "    return texto"
   ]
  },
  {
   "cell_type": "code",
   "execution_count": 1192,
   "metadata": {},
   "outputs": [],
   "source": [
    "def bloques(lista, m):\n",
    "    \"\"\"Devuelve bloques de 'm' elementos a partir de 'lista'.\"\"\"\n",
    "    for i in range(0, len(lista), m):\n",
    "        yield lista[i:i + m]"
   ]
  },
  {
   "cell_type": "code",
   "execution_count": 1193,
   "metadata": {},
   "outputs": [],
   "source": [
    "def unir(lista_strings):\n",
    "    \"\"\"Dada una lista de strings, devuelve el string de la lista concatenada\"\"\"\n",
    "    res = \"\"\n",
    "    for string in lista_strings:\n",
    "        res += string\n",
    "    return res"
   ]
  },
  {
   "cell_type": "markdown",
   "metadata": {},
   "source": [
    "Tenemos que generar las claves de $B$."
   ]
  },
  {
   "cell_type": "code",
   "execution_count": 1194,
   "metadata": {},
   "outputs": [
    {
     "name": "stdout",
     "output_type": "stream",
     "text": [
      "2305843009213693951\n",
      "True\n"
     ]
    }
   ],
   "source": [
    "p_B = (2^61) - 1\n",
    "print(p_B)\n",
    "print(is_prime(p_B))"
   ]
  },
  {
   "cell_type": "code",
   "execution_count": 1195,
   "metadata": {},
   "outputs": [
    {
     "name": "stdout",
     "output_type": "stream",
     "text": [
      "618970019642690137449562111\n",
      "True\n"
     ]
    }
   ],
   "source": [
    "q_B = (2^89) - 1\n",
    "print(q_B)\n",
    "print(is_prime(q_B))"
   ]
  },
  {
   "cell_type": "code",
   "execution_count": 1196,
   "metadata": {},
   "outputs": [
    {
     "data": {
      "text/plain": [
       "1321078713497676344611631197413024695759808037"
      ]
     },
     "execution_count": 1196,
     "metadata": {},
     "output_type": "execute_result"
    }
   ],
   "source": [
    "n_B = p_B*q_B\n",
    "phi_B = (p_B - 1)*(q_B - 1)\n",
    "e_B = genera_e(phi_B)\n",
    "d_B = genera_d(e_B, phi_B) ; d_B"
   ]
  },
  {
   "cell_type": "code",
   "execution_count": 1197,
   "metadata": {},
   "outputs": [
    {
     "data": {
      "text/plain": [
       "{'e': 552184328085843760956484202252120028198071473,\n",
       " 'n': 1427247692705959880439315947500961989719490561}"
      ]
     },
     "execution_count": 1197,
     "metadata": {},
     "output_type": "execute_result"
    }
   ],
   "source": [
    "pub_B = {\"n\": n_B, \"e\": e_B}; pub_B"
   ]
  },
  {
   "cell_type": "code",
   "execution_count": 1198,
   "metadata": {},
   "outputs": [
    {
     "data": {
      "text/plain": [
       "{'d': 1321078713497676344611631197413024695759808037,\n",
       " 'p': 2305843009213693951,\n",
       " 'q': 618970019642690137449562111}"
      ]
     },
     "execution_count": 1198,
     "metadata": {},
     "output_type": "execute_result"
    }
   ],
   "source": [
    "priv_B = {\"p\": p_B, \"q\": q_B, \"d\": d_B}; priv_B"
   ]
  },
  {
   "cell_type": "code",
   "execution_count": 1199,
   "metadata": {},
   "outputs": [],
   "source": [
    "# Vamos a seguir el ejemplo de teoría\n",
    "\n",
    "pub_B = {\"n\": 1735939, \"e\": 187};\n",
    "priv_B = {\"p\": 1597, \"q\": 1087, \"d\": 37075}"
   ]
  },
  {
   "cell_type": "markdown",
   "metadata": {},
   "source": [
    "Ahora vamos a cifrar el mensaje."
   ]
  },
  {
   "cell_type": "code",
   "execution_count": 1200,
   "metadata": {},
   "outputs": [],
   "source": [
    "mensaje2 = \"repliegue al blocao a\""
   ]
  },
  {
   "cell_type": "code",
   "execution_count": 1201,
   "metadata": {},
   "outputs": [],
   "source": [
    "def mensaje_num_a_bloques_cifras(mensaje_num, mod, cifrado=True):\n",
    "    \n",
    "    cifras_mod = len(str(mod))\n",
    "    \n",
    "    tam_mensaje = len(mensaje_num)\n",
    "    if (cifrado):\n",
    "        tam_bloque = cifras_mod - 1\n",
    "    \n",
    "        if (tam_bloque % 2 != 0):\n",
    "            tam_bloque = tam_bloque - 1\n",
    "    else:\n",
    "        tam_bloque = cifras_mod\n",
    "    \n",
    "    if (tam_mensaje > tam_bloque):\n",
    "        # Separa los números del mensaje en bloques de tamaño tam_mensaje\n",
    "        bloques_mensaje = [mensaje_num[i:i+tam_bloque] for i in range(0, tam_mensaje, tam_bloque)]\n",
    "        \n",
    "        if (len(bloques_mensaje[-1]) != tam_bloque):\n",
    "            bloques_mensaje[-1] = bloques_mensaje[-1].ljust(tam_bloque, '2')\n",
    "        \n",
    "        return bloques_mensaje\n",
    "    else:\n",
    "        if (len(mensaje_num) != tam_bloque):\n",
    "            mensaje_num = mensaje_num.ljust(tam_bloque, '2')\n",
    "        return [mensaje_num]"
   ]
  },
  {
   "cell_type": "code",
   "execution_count": 1202,
   "metadata": {},
   "outputs": [],
   "source": [
    "def exp_cifrado_RSA(bloques, exp, mod):\n",
    "    cifras_mod = len(str(mod))\n",
    "    \n",
    "    bloques_mensaje_cifrado = []\n",
    "    \n",
    "    for bloque in bloques:\n",
    "        bloque_cifrado = str(power_mod(int(bloque), exp, mod))\n",
    "        bloques_mensaje_cifrado.append(bloque_cifrado)\n",
    "    \n",
    "    for i, bloque in enumerate(bloques_mensaje_cifrado):\n",
    "        bloques_mensaje_cifrado[i] = bloque.rjust(cifras_mod, '0')\n",
    "    \n",
    "    return bloques_mensaje_cifrado"
   ]
  },
  {
   "cell_type": "code",
   "execution_count": 1203,
   "metadata": {},
   "outputs": [],
   "source": [
    "def exp_descifrado_RSA(bloques, exp, mod):\n",
    "    tam_mayor = 0\n",
    "    bloques_descifrados = []\n",
    "    \n",
    "    # Desciframos cada uno de los bloques\n",
    "    # Almacenamos el tamaño del bloque mayor\n",
    "    for bloque in bloques:\n",
    "        bloque_descifrado = str(power_mod(int(bloque), exp, mod))\n",
    "        \n",
    "        if len(bloque_descifrado) > tam_mayor:\n",
    "            tam_mayor = len(bloque_descifrado)\n",
    "        \n",
    "        bloques_descifrados.append(bloque_descifrado)\n",
    "    \n",
    "    # Completamos los bloques con 0 por la izquierda\n",
    "    for i, bloque in enumerate(bloques_descifrados):\n",
    "        bloques_descifrados[i] = bloque.rjust(tam_mayor, '0')\n",
    "    \n",
    "    return bloques_descifrados"
   ]
  },
  {
   "cell_type": "code",
   "execution_count": 1204,
   "metadata": {},
   "outputs": [
    {
     "name": "stdout",
     "output_type": "stream",
     "text": [
      "['170415', '110804', '062004', '001101', '111402', '001400']\n",
      "['1442861', '0082626', '0690931', '1489385', '0363461', '0062317']\n",
      "['170415', '110804', '062004', '001101', '111402', '001400']\n",
      "replieguealblocaoa\n"
     ]
    }
   ],
   "source": [
    "# Únicamente cifrado\n",
    "mensaje2_bloques_cifras = mensaje_num_a_bloques_cifras(texto_a_numeros(mensaje2), pub_B[\"n\"])\n",
    "print(mensaje2_bloques_cifras)\n",
    "\n",
    "mensaje2_cifrado = exp_cifrado_RSA(mensaje2_bloques_cifras, pub_B[\"e\"], pub_B[\"n\"])\n",
    "print(mensaje2_cifrado)\n",
    "\n",
    "mensaje2_descifrado_bloques_cifras = exp_descifrado_RSA(mensaje2_cifrado, priv_B[\"d\"], pub_B[\"n\"])\n",
    "print(mensaje2_descifrado_bloques_cifras)\n",
    "\n",
    "print(numeros_a_texto(unir(mensaje2_descifrado_bloques_cifras)))"
   ]
  },
  {
   "cell_type": "code",
   "execution_count": 1205,
   "metadata": {},
   "outputs": [
    {
     "name": "stdout",
     "output_type": "stream",
     "text": [
      "El mensaje original es: repliegue al blocao a\n",
      "\n",
      "('mensaje original en bloques de cifras', ['17041511080406', '20040011011114', '02001400222222'])\n",
      "('mensaje firmado', ['0892491932540857', '0619379108068276', '0852714259697267'])\n",
      "('mensaje firmado en bloques de cifras', ['089249', '193254', '085706', '193791', '080682', '760852', '714259', '697267'])\n",
      "('mensaje firmado cifrado', ['1321948', '0779596', '0239577', '1455527', '1502909', '0678461', '0055751', '1266823'])\n",
      "('mensaje firmado descifrado', ['089249', '193254', '085706', '193791', '080682', '760852', '714259', '697267'])\n",
      "('mensaje firmado descifrado en bloques de cifras', ['0892491932540857', '0619379108068276', '0852714259697267'])\n",
      "('mensaje verificado descifrado', ['17041511080406', '20040011011114', '02001400222222'])\n",
      "\n",
      "El mensaje obtenido es: replieguealblocaoawww\n"
     ]
    }
   ],
   "source": [
    "# Cifrado y firma\n",
    "mensaje22 = \"repliegue al blocao a\"\n",
    "print(\"El mensaje original es: \" + mensaje22 + \"\\n\")\n",
    "mensaje22_bloques_cifras = mensaje_num_a_bloques_cifras(texto_a_numeros(mensaje22), pub_A[\"n\"])\n",
    "print(\"mensaje original en bloques de cifras\", mensaje22_bloques_cifras)\n",
    "\n",
    "mensaje22_firmado = exp_cifrado_RSA(mensaje22_bloques_cifras, priv_A[\"d\"], pub_A[\"n\"])\n",
    "print(\"mensaje firmado\", mensaje22_firmado)\n",
    "\n",
    "tmp = unir(mensaje22_firmado)\n",
    "mensaje22_firmado_bloques_cifras = mensaje_num_a_bloques_cifras(tmp, pub_B[\"n\"])\n",
    "print(\"mensaje firmado en bloques de cifras\", mensaje22_firmado_bloques_cifras)\n",
    "\n",
    "mensaje22_firmado_cifrado = exp_cifrado_RSA(mensaje22_firmado_bloques_cifras, pub_B[\"e\"], pub_B[\"n\"])\n",
    "print(\"mensaje firmado cifrado\", mensaje22_firmado_cifrado)\n",
    "\n",
    "mensaje22_firmado_descifrado = exp_descifrado_RSA(mensaje22_firmado_cifrado, priv_B[\"d\"], pub_B[\"n\"])\n",
    "print(\"mensaje firmado descifrado\", mensaje22_firmado_descifrado)\n",
    "\n",
    "tmp2 = unir(mensaje22_firmado_descifrado)\n",
    "mensaje22_firmado_descifrado_bloques_cifras = mensaje_num_a_bloques_cifras(tmp2, pub_A[\"n\"], False)\n",
    "print(\"mensaje firmado descifrado en bloques de cifras\", mensaje22_firmado_descifrado_bloques_cifras)\n",
    "\n",
    "mensaje22_verificado_descifrado = exp_descifrado_RSA(mensaje22_firmado_descifrado_bloques_cifras, pub_A[\"e\"], pub_A[\"n\"])\n",
    "print(\"mensaje verificado descifrado\", mensaje22_verificado_descifrado)\n",
    "\n",
    "print(\"\\nEl mensaje obtenido es: \" + numeros_a_texto(unir(mensaje22_verificado_descifrado)))"
   ]
  },
  {
   "cell_type": "markdown",
   "metadata": {},
   "source": [
    "# Ejercicio 3\n",
    "\n",
    "*La clave pública de Alice en determinado círculo de usuarios RSA es $\\langle 49569253, 3\\rangle$. Cifre para ella un determinado mensaje $m$ de su invención.*"
   ]
  },
  {
   "cell_type": "code",
   "execution_count": 1206,
   "metadata": {},
   "outputs": [],
   "source": [
    "pub_B = {\"n\": 49569253, \"e\": 3};"
   ]
  },
  {
   "cell_type": "code",
   "execution_count": 1207,
   "metadata": {},
   "outputs": [
    {
     "name": "stdout",
     "output_type": "stream",
     "text": [
      "['110002', '041700', '120802', '000304', '190011', '002104', '170013', '140418', '021418', '001204', '131417']\n",
      "['08761897', '25218492', '34060258', '28094464', '24288778', '44570553', '28801650', '43524731', '22578755', '10413809', '38223689']\n"
     ]
    }
   ],
   "source": [
    "mensaje3 = \"La cerámica de Talavera no es cosa menor\"\n",
    "mensaje3_bloques_cifras = mensaje_num_a_bloques_cifras(texto_a_numeros(mensaje3), pub_B[\"n\"])\n",
    "print(mensaje3_bloques_cifras)\n",
    "\n",
    "mensaje3_cifrado = exp_cifrado_RSA(mensaje3_bloques_cifras, pub_B[\"e\"], pub_B[\"n\"])\n",
    "print(mensaje3_cifrado)"
   ]
  },
  {
   "cell_type": "markdown",
   "metadata": {},
   "source": [
    "# Ejercicio 4\n",
    "\n",
    "*Por descuido, Alice y Bob se han unido a un círculo de usuarios RSA con las claves públicas:*\n",
    "- *Alice: $\\langle 49569253, 1121\\rangle$*\n",
    "- *Bob: $\\langle 49569253, 1717\\rangle$*\n",
    "\n",
    "Eve decide enviar cierto mensaje $m$ a ambos usuarios, cifrándolo adecuadamente. A Alice le hace llegar $16187450$ y a Bob $2897699$. Carol es conocedora de esta comunicación y no se resiste a inmiscuirse en la conversación secreta, pudiendo desvelar lo oculto. Diga usted qué mensaje $m$ enviado por Eve descubrió Carol."
   ]
  },
  {
   "cell_type": "code",
   "execution_count": 1208,
   "metadata": {},
   "outputs": [
    {
     "name": "stdout",
     "output_type": "stream",
     "text": [
      "171800\n",
      "rsa\n"
     ]
    }
   ],
   "source": [
    "# Fallo del protocolo por el módulo común\n",
    "n = 49569253\n",
    "eA = 1121\n",
    "eB = 1717\n",
    "mA = 16187450\n",
    "mB = 2897699\n",
    "\n",
    "# Hallamos los coeficientes de Bezout\n",
    "d, u, v = xgcd(eA, eB)\n",
    "\n",
    "mensaje = str(power_mod(mA, u, n) * power_mod(mB, v, n) % n)\n",
    "print(mensaje)\n",
    "print(numeros_a_texto(mensaje))"
   ]
  },
  {
   "cell_type": "markdown",
   "metadata": {},
   "source": [
    "# Ejercicio 5\n",
    "*La clave pública de Alice, Bob y Eve en determinado círculo de usuarios RSA es, respectivamente:*\n",
    "- *Alice: $\\langle 49569253, 3\\rangle$*\n",
    "- *Bob: $\\langle 45729283, 3\\rangle$*\n",
    "- *Eve: $\\langle 62615533, 3\\rangle$*\n",
    "\n",
    "*Dave necesita enviar a los tres un mismo mensaje $m$, que ha cifrado resultando en cada caso:*\n",
    "- *Alice: $14087331, 1176293, 46828916, 15244478, 34299711, 48939817$*\n",
    "- *Bob: $27425305, 14483107, 13942406, 44901956, 24874564, 7906872$*\n",
    "- *Eve: $62007067, 35550694, 62611116, 4185043, 52598842, 59059670$*\n",
    "\n",
    "Carol está a la escucha y siente interés en conocer qué tiene que decir Dave a sus tres amigos. Recordando sus conocimientos adquiridos en SPSI de la carrera se pone manos a la obra y consigue leer el mensaje $m$. Diga usted qué mensaje $m$ descubrió Carol al inmiscuirse y poder leer el envío de Dave."
   ]
  },
  {
   "cell_type": "code",
   "execution_count": 1209,
   "metadata": {},
   "outputs": [
    {
     "name": "stdout",
     "output_type": "stream",
     "text": [
      "['1100131', '4020704', '0418030', '4111418', '0600191', '4182222']\n",
      "lanocheesdelosgatosww\n"
     ]
    }
   ],
   "source": [
    "# Fallor del protocolo por elección de exponentes bajos\n",
    "\n",
    "e = 3\n",
    "nA = 49569253\n",
    "nB = 45729283\n",
    "nE = 62615533\n",
    "mA = [14087331, 1176293, 46828916, 15244478, 34299711, 48939817]\n",
    "mB = [27425305, 14483107, 13942406, 44901956, 24874564, 7906872]\n",
    "mE = [62007067, 35550694, 62611116, 4185043, 52598842, 59059670]\n",
    "\n",
    "bloques_mensaje = []\n",
    "\n",
    "# Resolvemos el sistema de cada trío de bloques y calculamos\n",
    "# la raíz cúbica\n",
    "for i in range(len(mA)):\n",
    "    bloque = str((crt([mA[i], mB[i], mE[i]], [nA, nB, nE]).nth_root(e)))\n",
    "    bloques_mensaje.append(bloque)\n",
    "\n",
    "# Ajustamos con 0 para que todos los bloques tengan la misma\n",
    "# longitud\n",
    "tam_mayor = max([len(bloque) for bloque in bloques_mensaje])\n",
    "\n",
    "for i, bloque in enumerate(bloques_mensaje):\n",
    "        bloques_mensaje[i] = bloque.rjust(tam_mayor, '0')\n",
    "    \n",
    "print(bloques_mensaje)\n",
    "print(numeros_a_texto(unir(bloques_mensaje)))"
   ]
  },
  {
   "cell_type": "markdown",
   "metadata": {},
   "source": [
    "# Referencias\n",
    "\n",
    "1. Minh Van Nguyen. *Number Theory and the RSA Public Key Cryptosystem*. Recuperado el 28 de noviembre de 2019 desde http://doc.sagemath.org/html/en/thematic_tutorials/numtheory_rsa.html."
   ]
  },
  {
   "cell_type": "code",
   "execution_count": null,
   "metadata": {},
   "outputs": [],
   "source": []
  }
 ],
 "metadata": {
  "kernelspec": {
   "display_name": "SageMath 8.8",
   "language": "sage",
   "name": "sagemath"
  },
  "language_info": {
   "codemirror_mode": {
    "name": "ipython",
    "version": 2
   },
   "file_extension": ".py",
   "mimetype": "text/x-python",
   "name": "python",
   "nbconvert_exporter": "python",
   "pygments_lexer": "ipython2",
   "version": "2.7.15"
  }
 },
 "nbformat": 4,
 "nbformat_minor": 2
}
